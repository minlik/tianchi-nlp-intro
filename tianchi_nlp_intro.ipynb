{
  "nbformat": 4,
  "nbformat_minor": 5,
  "metadata": {
    "kernelspec": {
      "display_name": "Python 3",
      "language": "python",
      "name": "python3"
    },
    "language_info": {
      "codemirror_mode": {
        "name": "ipython",
        "version": 3
      },
      "file_extension": ".py",
      "mimetype": "text/x-python",
      "name": "python",
      "nbconvert_exporter": "python",
      "pygments_lexer": "ipython3",
      "version": "3.8.8"
    },
    "colab": {
      "name": "tianchi-nlp-intro.ipynb",
      "provenance": [],
      "collapsed_sections": [],
      "machine_shape": "hm"
    },
    "accelerator": "GPU"
  },
  "cells": [
    {
      "cell_type": "markdown",
      "metadata": {
        "id": "e072f4e7"
      },
      "source": [
        "（10月5日）**任务1**：报名比赛，下载比赛数据集并完成读取"
      ],
      "id": "e072f4e7"
    },
    {
      "cell_type": "code",
      "metadata": {
        "colab": {
          "base_uri": "https://localhost:8080/"
        },
        "id": "53CFO7v29Faj",
        "outputId": "7cb7737f-610d-48e5-da70-767c3b220218"
      },
      "source": [
        "from google.colab import drive\n",
        "drive.mount('/content/drive')"
      ],
      "id": "53CFO7v29Faj",
      "execution_count": 1,
      "outputs": [
        {
          "output_type": "stream",
          "name": "stdout",
          "text": [
            "Mounted at /content/drive\n"
          ]
        }
      ]
    },
    {
      "cell_type": "code",
      "metadata": {
        "colab": {
          "base_uri": "https://localhost:8080/"
        },
        "id": "lzyVZ7wrdFA7",
        "outputId": "da499838-d62b-4990-ef27-a1b91ef6fbe4"
      },
      "source": [
        "%cd /content/drive/MyDrive/tianchi-nlp-intro"
      ],
      "id": "lzyVZ7wrdFA7",
      "execution_count": 2,
      "outputs": [
        {
          "output_type": "stream",
          "name": "stdout",
          "text": [
            "/content/drive/MyDrive/tianchi-nlp-intro\n"
          ]
        }
      ]
    },
    {
      "cell_type": "code",
      "metadata": {
        "colab": {
          "base_uri": "https://localhost:8080/"
        },
        "id": "T4LVcjLTdMnd",
        "outputId": "18521c12-a3c3-495a-fa80-50ea844aa012"
      },
      "source": [
        "!pwd"
      ],
      "id": "T4LVcjLTdMnd",
      "execution_count": 3,
      "outputs": [
        {
          "output_type": "stream",
          "name": "stdout",
          "text": [
            "/content/drive/MyDrive/tianchi-nlp-intro\n"
          ]
        }
      ]
    },
    {
      "cell_type": "code",
      "metadata": {
        "colab": {
          "base_uri": "https://localhost:8080/"
        },
        "id": "W8-aEW9UJm0S",
        "outputId": "b4a10db6-130d-4d6a-e636-b6cb29f5877e"
      },
      "source": [
        "!nvidia-smi"
      ],
      "id": "W8-aEW9UJm0S",
      "execution_count": 4,
      "outputs": [
        {
          "output_type": "stream",
          "name": "stdout",
          "text": [
            "Sat Oct  9 03:44:02 2021       \n",
            "+-----------------------------------------------------------------------------+\n",
            "| NVIDIA-SMI 470.74       Driver Version: 460.32.03    CUDA Version: 11.2     |\n",
            "|-------------------------------+----------------------+----------------------+\n",
            "| GPU  Name        Persistence-M| Bus-Id        Disp.A | Volatile Uncorr. ECC |\n",
            "| Fan  Temp  Perf  Pwr:Usage/Cap|         Memory-Usage | GPU-Util  Compute M. |\n",
            "|                               |                      |               MIG M. |\n",
            "|===============================+======================+======================|\n",
            "|   0  Tesla P100-PCIE...  Off  | 00000000:00:04.0 Off |                    0 |\n",
            "| N/A   41C    P0    28W / 250W |      0MiB / 16280MiB |      0%      Default |\n",
            "|                               |                      |                  N/A |\n",
            "+-------------------------------+----------------------+----------------------+\n",
            "                                                                               \n",
            "+-----------------------------------------------------------------------------+\n",
            "| Processes:                                                                  |\n",
            "|  GPU   GI   CI        PID   Type   Process name                  GPU Memory |\n",
            "|        ID   ID                                                   Usage      |\n",
            "|=============================================================================|\n",
            "|  No running processes found                                                 |\n",
            "+-----------------------------------------------------------------------------+\n"
          ]
        }
      ]
    },
    {
      "cell_type": "code",
      "metadata": {
        "id": "886df566"
      },
      "source": [
        "import pandas as pd\n",
        "train_df = pd.read_csv('./train_set.csv', sep='\\t', nrows=100)\n",
        "train_df['word'] = train_df['text'].apply(lambda x: len(x.split(' ')))"
      ],
      "id": "886df566",
      "execution_count": null,
      "outputs": []
    },
    {
      "cell_type": "markdown",
      "metadata": {
        "id": "a99071de"
      },
      "source": [
        "（10月5日）**任务2**：对数据集字符进行可视化，统计标签和字符分布\n",
        "- [x] 统计数据集中所有句子所包含字符的平均个数\n",
        "- [x] 统计数据集中不同类别下句子平均字符的个数\n",
        "- [x] 统计数据集中类别分布的规律\n",
        "- [x] 统计数据集中不同类别下句子中最常见的5个字符"
      ],
      "id": "a99071de"
    },
    {
      "cell_type": "code",
      "metadata": {
        "id": "00eeef18"
      },
      "source": [
        "label2id = {'科技': 0, '股票': 1, '体育': 2, '娱乐': 3, '时政': 4, '社会': 5, '教育': 6, '财经': 7, '家居': 8, '游戏': 9, '房产': 10, '时尚': 11, '彩票': 12, '星座': 13}\n",
        "id2label = {v:k for k, v in label2id.items()}"
      ],
      "id": "00eeef18",
      "execution_count": null,
      "outputs": []
    },
    {
      "cell_type": "code",
      "metadata": {
        "id": "7720b54d",
        "colab": {
          "base_uri": "https://localhost:8080/"
        },
        "outputId": "495e244a-a13f-4ccb-a235-1d8bf8f76d60"
      },
      "source": [
        "avg = train_df['word'].mean()\n",
        "print(f'统计数据集中所有句子所包含字符的平均个数: {avg:.2f}')"
      ],
      "id": "7720b54d",
      "execution_count": null,
      "outputs": [
        {
          "output_type": "stream",
          "name": "stdout",
          "text": [
            "统计数据集中所有句子所包含字符的平均个数: 872.32\n"
          ]
        }
      ]
    },
    {
      "cell_type": "code",
      "metadata": {
        "id": "f1b0ae8c",
        "colab": {
          "base_uri": "https://localhost:8080/"
        },
        "outputId": "5bdad17a-f274-43ca-d773-cbaf005e23ac"
      },
      "source": [
        "avg_by_label = train_df.groupby('label')['word'].mean()\n",
        "for i, avg in enumerate(avg_by_label):\n",
        "    label = id2label[i]\n",
        "    print(f'\\\"{label}\\\"类别下的字符平均个数：{avg:.2f}')"
      ],
      "id": "f1b0ae8c",
      "execution_count": null,
      "outputs": [
        {
          "output_type": "stream",
          "name": "stdout",
          "text": [
            "\"科技\"类别下的字符平均个数：1096.54\n",
            "\"股票\"类别下的字符平均个数：721.56\n",
            "\"体育\"类别下的字符平均个数：1104.63\n",
            "\"娱乐\"类别下的字符平均个数：512.17\n",
            "\"时政\"类别下的字符平均个数：329.12\n",
            "\"社会\"类别下的字符平均个数：1516.67\n",
            "\"教育\"类别下的字符平均个数：2214.20\n",
            "\"财经\"类别下的字符平均个数：1012.00\n",
            "\"家居\"类别下的字符平均个数：435.67\n",
            "\"游戏\"类别下的字符平均个数：565.67\n",
            "\"房产\"类别下的字符平均个数：1177.67\n",
            "\"时尚\"类别下的字符平均个数：425.00\n",
            "\"彩票\"类别下的字符平均个数：374.00\n",
            "\"星座\"类别下的字符平均个数：131.00\n"
          ]
        }
      ]
    },
    {
      "cell_type": "code",
      "metadata": {
        "id": "3d3cc684"
      },
      "source": [
        "import matplotlib.pyplot as plt\n",
        "%matplotlib inline\n",
        "\n",
        "label_counts = train_df['label'].value_counts()\n",
        "labels = [label for label in label2id]\n",
        "plt.bar(labels, label_counts)\n",
        "plt.title('数据集中类别分布情况')\n",
        "plt.xlabel('类别')\n",
        "plt.ylabel('数量')\n",
        "plt.show()"
      ],
      "id": "3d3cc684",
      "execution_count": null,
      "outputs": []
    },
    {
      "cell_type": "code",
      "metadata": {
        "scrolled": true,
        "id": "2331cc92",
        "colab": {
          "base_uri": "https://localhost:8080/"
        },
        "outputId": "fda173cb-0902-4d60-880b-3455a5621b79"
      },
      "source": [
        "print('统计数据集中不同类别下句子中最常见的5个字符:\\n')\n",
        "import collections\n",
        "\n",
        "for i in range(len(labels)):\n",
        "    df = train_df[train_df['label'] == i]\n",
        "    words_list = []\n",
        "    for text in df['text']:\n",
        "        words_list += text.split()\n",
        "    words_counter = collections.Counter(words_list)\n",
        "    print(i, id2label[i], words_counter.most_common(5))"
      ],
      "id": "2331cc92",
      "execution_count": null,
      "outputs": [
        {
          "output_type": "stream",
          "name": "stdout",
          "text": [
            "统计数据集中不同类别下句子中最常见的5个字符:\n",
            "\n",
            "0 科技 [('3750', 610), ('648', 458), ('900', 298), ('6122', 179), ('3370', 150)]\n",
            "1 股票 [('3750', 531), ('648', 314), ('3370', 211), ('4464', 189), ('900', 186)]\n",
            "2 体育 [('3750', 956), ('648', 541), ('900', 434), ('4704', 225), ('1667', 212)]\n",
            "3 娱乐 [('3750', 239), ('648', 127), ('900', 87), ('2465', 65), ('4939', 62)]\n",
            "4 时政 [('3750', 78), ('648', 63), ('900', 56), ('4464', 40), ('4411', 35)]\n",
            "5 社会 [('3750', 193), ('648', 135), ('900', 98), ('4939', 66), ('5598', 53)]\n",
            "6 教育 [('3750', 491), ('648', 450), ('2555', 297), ('5620', 215), ('900', 207)]\n",
            "7 财经 [('3750', 214), ('3370', 134), ('648', 106), ('900', 100), ('4464', 85)]\n",
            "8 家居 [('3750', 68), ('648', 42), ('913', 33), ('5305', 21), ('4326', 20)]\n",
            "9 游戏 [('3750', 51), ('3370', 35), ('3317', 31), ('7010', 27), ('7539', 26)]\n",
            "10 房产 [('3750', 152), ('648', 84), ('2999', 64), ('900', 57), ('408', 57)]\n",
            "11 时尚 [('3750', 102), ('648', 73), ('900', 40), ('5310', 27), ('3809', 24)]\n",
            "12 彩票 [('4464', 59), ('6220', 59), ('3659', 46), ('3370', 39), ('6065', 23)]\n",
            "13 星座 [('648', 6), ('3750', 5), ('1903', 3), ('3019', 3), ('3607', 3)]\n"
          ]
        }
      ]
    },
    {
      "cell_type": "markdown",
      "metadata": {
        "id": "270f0c74"
      },
      "source": [
        "**（10月11日）任务3：使用 TFIDF 提取文本特征**\n",
        "\n",
        "- [x] 学习TFIDF的原理\n",
        "- [x] 学会使用CountVectorizer\n",
        "- [x] 学会使用TfidfVectorizer"
      ],
      "id": "270f0c74"
    },
    {
      "cell_type": "code",
      "metadata": {
        "id": "034932c5"
      },
      "source": [
        "import pandas as pd\n",
        "from sklearn.feature_extraction.text import CountVectorizer, TfidfVectorizer\n",
        "\n",
        "train_df = pd.read_csv('./train_set.csv', sep='\\t')\n",
        "test_df = pd.read_csv('./test_a.csv', sep='\\t')"
      ],
      "id": "034932c5",
      "execution_count": null,
      "outputs": []
    },
    {
      "cell_type": "code",
      "metadata": {
        "id": "ebf1f08e",
        "colab": {
          "base_uri": "https://localhost:8080/",
          "height": 206
        },
        "outputId": "7e8c8bcd-512e-4830-e61f-d4a991c52507"
      },
      "source": [
        "train_df.head()"
      ],
      "id": "ebf1f08e",
      "execution_count": null,
      "outputs": [
        {
          "output_type": "execute_result",
          "data": {
            "text/html": [
              "<div>\n",
              "<style scoped>\n",
              "    .dataframe tbody tr th:only-of-type {\n",
              "        vertical-align: middle;\n",
              "    }\n",
              "\n",
              "    .dataframe tbody tr th {\n",
              "        vertical-align: top;\n",
              "    }\n",
              "\n",
              "    .dataframe thead th {\n",
              "        text-align: right;\n",
              "    }\n",
              "</style>\n",
              "<table border=\"1\" class=\"dataframe\">\n",
              "  <thead>\n",
              "    <tr style=\"text-align: right;\">\n",
              "      <th></th>\n",
              "      <th>label</th>\n",
              "      <th>text</th>\n",
              "    </tr>\n",
              "  </thead>\n",
              "  <tbody>\n",
              "    <tr>\n",
              "      <th>0</th>\n",
              "      <td>2</td>\n",
              "      <td>2967 6758 339 2021 1854 3731 4109 3792 4149 15...</td>\n",
              "    </tr>\n",
              "    <tr>\n",
              "      <th>1</th>\n",
              "      <td>11</td>\n",
              "      <td>4464 486 6352 5619 2465 4802 1452 3137 5778 54...</td>\n",
              "    </tr>\n",
              "    <tr>\n",
              "      <th>2</th>\n",
              "      <td>3</td>\n",
              "      <td>7346 4068 5074 3747 5681 6093 1777 2226 7354 6...</td>\n",
              "    </tr>\n",
              "    <tr>\n",
              "      <th>3</th>\n",
              "      <td>2</td>\n",
              "      <td>7159 948 4866 2109 5520 2490 211 3956 5520 549...</td>\n",
              "    </tr>\n",
              "    <tr>\n",
              "      <th>4</th>\n",
              "      <td>3</td>\n",
              "      <td>3646 3055 3055 2490 4659 6065 3370 5814 2465 5...</td>\n",
              "    </tr>\n",
              "  </tbody>\n",
              "</table>\n",
              "</div>"
            ],
            "text/plain": [
              "   label                                               text\n",
              "0      2  2967 6758 339 2021 1854 3731 4109 3792 4149 15...\n",
              "1     11  4464 486 6352 5619 2465 4802 1452 3137 5778 54...\n",
              "2      3  7346 4068 5074 3747 5681 6093 1777 2226 7354 6...\n",
              "3      2  7159 948 4866 2109 5520 2490 211 3956 5520 549...\n",
              "4      3  3646 3055 3055 2490 4659 6065 3370 5814 2465 5..."
            ]
          },
          "metadata": {},
          "execution_count": 14
        }
      ]
    },
    {
      "cell_type": "code",
      "metadata": {
        "id": "6a346830"
      },
      "source": [
        "X_train = train_df['text']\n",
        "y_train = train_df['label']\n",
        "\n",
        "count_vec = CountVectorizer()\n",
        "count_X_train = count_vec.fit_transform(X_train)\n",
        "\n",
        "tfidf_vec = TfidfVectorizer()\n",
        "tfidf_X_train = tfidf_vec.fit_transform(X_train)"
      ],
      "id": "6a346830",
      "execution_count": null,
      "outputs": []
    },
    {
      "cell_type": "markdown",
      "metadata": {
        "id": "ebe59ffe"
      },
      "source": [
        "**（10月11日）任务4：使用 TFIDF 特征 和 线性模型完成训练和预测**\n",
        "\n",
        "- [ ] 使用TFIDF提取训练集和测试集特征\n",
        "- [ ] 使用线性模型（LR等）完成模型的训练和预测"
      ],
      "id": "ebe59ffe"
    },
    {
      "cell_type": "code",
      "metadata": {
        "id": "xwHmMgb7EtDq"
      },
      "source": [
        "import pandas as pd\n",
        "import pickle\n",
        "from sklearn.feature_extraction.text import TfidfVectorizer\n",
        "\n",
        "train_df = pd.read_csv('./train_set.csv', sep='\\t')\n",
        "test_df = pd.read_csv('./test_a.csv', sep='\\t')\n",
        "\n",
        "X_train = train_df['text']\n",
        "X_test = test_df['text']\n",
        "X_train_and_test = pd.concat([X_train, X_test])\n",
        "\n",
        "tfidf = TfidfVectorizer()\n",
        "tfidf.fit(X_train_and_test)\n",
        "tfidf_X_train = tfidf.transform(X_train)\n",
        "tfidf_X_test = tfidf.transform(X_test)\n",
        "\n"
      ],
      "id": "xwHmMgb7EtDq",
      "execution_count": null,
      "outputs": []
    },
    {
      "cell_type": "code",
      "metadata": {
        "id": "d27c84dd"
      },
      "source": [
        "from scipy import sparse\n",
        "import numpy as np\n",
        "import pickle\n",
        "\n",
        "# 保存模型及数据\n",
        "pickle.dump(tfidf, open('./model/tfidf.model', 'wb'))\n",
        "sparse.save_npz('./data/tfidf_X_train.npz', tfidf_X_train)\n",
        "sparse.save_npz('./data/tfidf_X_test.npz', tfidf_X_test)\n",
        "np.save('./data/y_train.npy', train_df['label'])\n"
      ],
      "id": "d27c84dd",
      "execution_count": null,
      "outputs": []
    },
    {
      "cell_type": "code",
      "metadata": {
        "id": "fd597863"
      },
      "source": [
        "from scipy import sparse\n",
        "import numpy as np\n",
        "\n",
        "# 加载数据\n",
        "X_train = sparse.load_npz('./data/tfidf_X_train.npz')\n",
        "y_train = np.load('./data/y_train.npy')\n",
        "X_test = sparse.load_npz('./data/tfidf_X_test.npz')\n",
        "\n"
      ],
      "id": "fd597863",
      "execution_count": null,
      "outputs": []
    },
    {
      "cell_type": "code",
      "metadata": {
        "id": "Ma115rpcLLo7"
      },
      "source": [
        "from sklearn.linear_model import LogisticRegression\n",
        "from sklearn.metrics import f1_score\n",
        "\n",
        "fold = StratifiedKFold(n_splits=5, shuffle=True)\n",
        "n_class = 14\n",
        "\n",
        "y_pred_prob = np.zeros((X_test.shape[0], n_class), dtype=np.float32)\n",
        "lr = LogisticRegression()\n",
        "\n",
        "for i, (train_idx, valid_idx) in enumerate(fold.split(X_train, y_train)):\n",
        "    print('第', i+1, '折交叉验证开始...')\n",
        "    X_train_, X_valid_ = X_train[train_idx], X_train[valid_idx]\n",
        "    y_train_, y_valid_ = y_train[train_idx], y_train[valid_idx]\n",
        "    lr.fit(X_train_, y_train_)\n",
        "    valid_preds = lr.predict(X_valid_)\n",
        "    valid_score = f1_score(y_valid_, valid_preds, average='macro')\n",
        "    print(f'f1 score: {valid_score:.4f}')\n",
        "    y_pred_prob += lr.predict_proba(X_test)\n",
        "    pickle.dump(lr, open(f'./model/lr_{i}.model', 'wb'))"
      ],
      "id": "Ma115rpcLLo7",
      "execution_count": null,
      "outputs": []
    },
    {
      "cell_type": "code",
      "metadata": {
        "collapsed": true,
        "id": "60dee2cb"
      },
      "source": [
        "preds = y_pred_prob.argmax(axis=-1)\n",
        "submit_lr = pd.DataFrame(preds, columns=['label'])\n",
        "submit_lr.to_csv('./submit/submit_lr_2.csv', index=False)"
      ],
      "id": "60dee2cb",
      "execution_count": null,
      "outputs": []
    },
    {
      "cell_type": "markdown",
      "metadata": {
        "id": "74fadb5d"
      },
      "source": [
        "**（10月11日）任务5：使用 TFIDF 特征 和 XGBoost完成训练和预测**\n",
        "\n",
        "- [ ] 使用TFIDF提取训练集和测试集特征\n",
        "- [ ] 使用XGBoost完成模型的训练和预测"
      ],
      "id": "74fadb5d"
    },
    {
      "cell_type": "code",
      "metadata": {
        "id": "PD6vRbCyEhwB"
      },
      "source": [
        "from scipy import sparse\n",
        "import numpy as np\n",
        "\n",
        "# 加载数据\n",
        "X_train = sparse.load_npz('./data/tfidf_X_train.npz')\n",
        "y_train = np.load('./data/y_train.npy')\n",
        "X_test = sparse.load_npz('./data/tfidf_X_test.npz')"
      ],
      "id": "PD6vRbCyEhwB",
      "execution_count": 5,
      "outputs": []
    },
    {
      "cell_type": "code",
      "metadata": {
        "id": "c37a67cd",
        "colab": {
          "base_uri": "https://localhost:8080/"
        },
        "outputId": "bcabb71f-a70a-4e6f-fdae-0b9427750e08"
      },
      "source": [
        "import numpy as np\n",
        "import pandas as pd\n",
        "import xgboost as xgb\n",
        "from sklearn.metrics import f1_score\n",
        "from sklearn.model_selection import train_test_split, StratifiedKFold\n",
        "from sklearn.decomposition import TruncatedSVD\n",
        "\n",
        "svd = TruncatedSVD(n_components=682)\n",
        "svd.fit(X_train)\n",
        "svd_X_train = svd.transform(X_train)\n",
        "svd_X_test = svd.transform(X_test)\n",
        "\n",
        "X_train_, X_valid_, y_train_, y_valid_ = train_test_split(svd_X_train, y_train, test_size=0.3, random_state=0)\n",
        "\n",
        "\n",
        "xg_params = {\n",
        "    'tree_method': 'gpu_hist',\n",
        "    'booster': 'gbtree',\n",
        "    'objective': 'multi:softprob',\n",
        "    'num_class': 14,\n",
        "    'max_depth': 10,\n",
        "    'eta': 0.05,\n",
        "    'subsample': 0.8,\n",
        "    'nthread': -1,\n",
        "    'seed':0,\n",
        "}\n",
        "\n",
        "def xgb_f1(y_pred: np.ndarray, dtrain: xgb.DMatrix):\n",
        "    ''' F1 score metric''' \n",
        "    y_true = dtrain.get_label()\n",
        "    y_pred = y_pred.argmax(axis=-1)\n",
        "    return 'f1_score', f1_score(y_true, y_pred, average='macro')\n",
        "\n",
        "\n",
        "xg_train = xgb.DMatrix(X_train_, label=y_train_)\n",
        "xg_valid = xgb.DMatrix(X_valid_, label=y_valid_)\n",
        "xg_test = xgb.DMatrix(svd_X_test)\n",
        "\n",
        "num_rounds = 200\n",
        "watchlist = [(xg_train, 'train'), (xg_valid, 'val')] \n",
        "\n",
        "xg_model = xgb.train(params=xg_params, \n",
        "                     dtrain=xg_train, \n",
        "                     num_boost_round=num_rounds, \n",
        "                     evals=watchlist, \n",
        "                     feval=xgb_f1)\n",
        "\n",
        "xg_model.save_model('./model/xgb.model')\n"
      ],
      "id": "c37a67cd",
      "execution_count": 7,
      "outputs": [
        {
          "output_type": "stream",
          "name": "stdout",
          "text": [
            "[0]\ttrain-merror:0.115364\tval-merror:0.171767\ttrain-f1_score:0.858263\tval-f1_score:0.782164\n",
            "[1]\ttrain-merror:0.098014\tval-merror:0.1512\ttrain-f1_score:0.880306\tval-f1_score:0.808894\n",
            "[2]\ttrain-merror:0.090157\tval-merror:0.143733\ttrain-f1_score:0.890404\tval-f1_score:0.818511\n",
            "[3]\ttrain-merror:0.085257\tval-merror:0.138733\ttrain-f1_score:0.89798\tval-f1_score:0.826227\n",
            "[4]\ttrain-merror:0.082707\tval-merror:0.136417\ttrain-f1_score:0.901291\tval-f1_score:0.829267\n",
            "[5]\ttrain-merror:0.080171\tval-merror:0.1342\ttrain-f1_score:0.904685\tval-f1_score:0.832508\n",
            "[6]\ttrain-merror:0.0785\tval-merror:0.1329\ttrain-f1_score:0.907249\tval-f1_score:0.835165\n",
            "[7]\ttrain-merror:0.076529\tval-merror:0.132233\ttrain-f1_score:0.910077\tval-f1_score:0.835981\n",
            "[8]\ttrain-merror:0.075264\tval-merror:0.13105\ttrain-f1_score:0.911408\tval-f1_score:0.837784\n",
            "[9]\ttrain-merror:0.073693\tval-merror:0.129883\ttrain-f1_score:0.91361\tval-f1_score:0.839439\n",
            "[10]\ttrain-merror:0.072064\tval-merror:0.129283\ttrain-f1_score:0.915576\tval-f1_score:0.839748\n",
            "[11]\ttrain-merror:0.07085\tval-merror:0.128167\ttrain-f1_score:0.916993\tval-f1_score:0.841638\n",
            "[12]\ttrain-merror:0.069614\tval-merror:0.1279\ttrain-f1_score:0.918424\tval-f1_score:0.841882\n",
            "[13]\ttrain-merror:0.06855\tval-merror:0.127183\ttrain-f1_score:0.919856\tval-f1_score:0.842248\n",
            "[14]\ttrain-merror:0.067236\tval-merror:0.126567\ttrain-f1_score:0.921843\tval-f1_score:0.843426\n",
            "[15]\ttrain-merror:0.066171\tval-merror:0.1265\ttrain-f1_score:0.923166\tval-f1_score:0.843321\n",
            "[16]\ttrain-merror:0.064943\tval-merror:0.125783\ttrain-f1_score:0.924642\tval-f1_score:0.844353\n",
            "[17]\ttrain-merror:0.063936\tval-merror:0.1257\ttrain-f1_score:0.925884\tval-f1_score:0.844252\n",
            "[18]\ttrain-merror:0.062779\tval-merror:0.125333\ttrain-f1_score:0.927295\tval-f1_score:0.844117\n",
            "[19]\ttrain-merror:0.061779\tval-merror:0.124883\ttrain-f1_score:0.928688\tval-f1_score:0.845156\n",
            "[20]\ttrain-merror:0.060964\tval-merror:0.124867\ttrain-f1_score:0.929431\tval-f1_score:0.845572\n",
            "[21]\ttrain-merror:0.060143\tval-merror:0.124167\ttrain-f1_score:0.930576\tval-f1_score:0.846733\n",
            "[22]\ttrain-merror:0.059086\tval-merror:0.123933\ttrain-f1_score:0.932141\tval-f1_score:0.846765\n",
            "[23]\ttrain-merror:0.058307\tval-merror:0.123517\ttrain-f1_score:0.932998\tval-f1_score:0.847004\n",
            "[24]\ttrain-merror:0.057243\tval-merror:0.123067\ttrain-f1_score:0.934708\tval-f1_score:0.847722\n",
            "[25]\ttrain-merror:0.056364\tval-merror:0.122833\ttrain-f1_score:0.935877\tval-f1_score:0.847936\n",
            "[26]\ttrain-merror:0.055529\tval-merror:0.122583\ttrain-f1_score:0.936789\tval-f1_score:0.848047\n",
            "[27]\ttrain-merror:0.0545\tval-merror:0.122333\ttrain-f1_score:0.937939\tval-f1_score:0.848005\n",
            "[28]\ttrain-merror:0.053614\tval-merror:0.121817\ttrain-f1_score:0.938899\tval-f1_score:0.849235\n",
            "[29]\ttrain-merror:0.052714\tval-merror:0.12155\ttrain-f1_score:0.939712\tval-f1_score:0.849851\n",
            "[30]\ttrain-merror:0.051686\tval-merror:0.121217\ttrain-f1_score:0.941121\tval-f1_score:0.850516\n",
            "[31]\ttrain-merror:0.050964\tval-merror:0.120883\ttrain-f1_score:0.94183\tval-f1_score:0.850548\n",
            "[32]\ttrain-merror:0.050129\tval-merror:0.12085\ttrain-f1_score:0.942821\tval-f1_score:0.850539\n",
            "[33]\ttrain-merror:0.049136\tval-merror:0.120633\ttrain-f1_score:0.944117\tval-f1_score:0.851173\n",
            "[34]\ttrain-merror:0.048171\tval-merror:0.120133\ttrain-f1_score:0.94506\tval-f1_score:0.851513\n",
            "[35]\ttrain-merror:0.047407\tval-merror:0.119817\ttrain-f1_score:0.946265\tval-f1_score:0.852587\n",
            "[36]\ttrain-merror:0.046657\tval-merror:0.11965\ttrain-f1_score:0.946886\tval-f1_score:0.853155\n",
            "[37]\ttrain-merror:0.04595\tval-merror:0.119317\ttrain-f1_score:0.947937\tval-f1_score:0.852857\n",
            "[38]\ttrain-merror:0.0452\tval-merror:0.11915\ttrain-f1_score:0.948785\tval-f1_score:0.853432\n",
            "[39]\ttrain-merror:0.044379\tval-merror:0.118683\ttrain-f1_score:0.949778\tval-f1_score:0.85387\n",
            "[40]\ttrain-merror:0.043771\tval-merror:0.118583\ttrain-f1_score:0.950506\tval-f1_score:0.854353\n",
            "[41]\ttrain-merror:0.043014\tval-merror:0.118283\ttrain-f1_score:0.951344\tval-f1_score:0.854672\n",
            "[42]\ttrain-merror:0.042207\tval-merror:0.117917\ttrain-f1_score:0.952251\tval-f1_score:0.854987\n",
            "[43]\ttrain-merror:0.041414\tval-merror:0.117783\ttrain-f1_score:0.953203\tval-f1_score:0.855102\n",
            "[44]\ttrain-merror:0.040536\tval-merror:0.117283\ttrain-f1_score:0.9544\tval-f1_score:0.856339\n",
            "[45]\ttrain-merror:0.039907\tval-merror:0.117083\ttrain-f1_score:0.955125\tval-f1_score:0.856466\n",
            "[46]\ttrain-merror:0.0391\tval-merror:0.116883\ttrain-f1_score:0.956145\tval-f1_score:0.856739\n",
            "[47]\ttrain-merror:0.038386\tval-merror:0.116783\ttrain-f1_score:0.956888\tval-f1_score:0.856976\n",
            "[48]\ttrain-merror:0.037771\tval-merror:0.116217\ttrain-f1_score:0.957824\tval-f1_score:0.857785\n",
            "[49]\ttrain-merror:0.037064\tval-merror:0.11605\ttrain-f1_score:0.958626\tval-f1_score:0.85782\n",
            "[50]\ttrain-merror:0.03635\tval-merror:0.115867\ttrain-f1_score:0.95963\tval-f1_score:0.858076\n",
            "[51]\ttrain-merror:0.035621\tval-merror:0.11565\ttrain-f1_score:0.96057\tval-f1_score:0.858281\n",
            "[52]\ttrain-merror:0.034964\tval-merror:0.115433\ttrain-f1_score:0.961304\tval-f1_score:0.858439\n",
            "[53]\ttrain-merror:0.034357\tval-merror:0.115267\ttrain-f1_score:0.962103\tval-f1_score:0.858975\n",
            "[54]\ttrain-merror:0.033771\tval-merror:0.115067\ttrain-f1_score:0.96265\tval-f1_score:0.858813\n",
            "[55]\ttrain-merror:0.033164\tval-merror:0.11475\ttrain-f1_score:0.963517\tval-f1_score:0.858756\n",
            "[56]\ttrain-merror:0.032421\tval-merror:0.114633\ttrain-f1_score:0.964326\tval-f1_score:0.859122\n",
            "[57]\ttrain-merror:0.031721\tval-merror:0.114633\ttrain-f1_score:0.965118\tval-f1_score:0.859362\n",
            "[58]\ttrain-merror:0.031114\tval-merror:0.1145\ttrain-f1_score:0.965891\tval-f1_score:0.859294\n",
            "[59]\ttrain-merror:0.030414\tval-merror:0.114183\ttrain-f1_score:0.966748\tval-f1_score:0.859648\n",
            "[60]\ttrain-merror:0.029714\tval-merror:0.11405\ttrain-f1_score:0.967558\tval-f1_score:0.8598\n",
            "[61]\ttrain-merror:0.029093\tval-merror:0.113633\ttrain-f1_score:0.968342\tval-f1_score:0.860596\n",
            "[62]\ttrain-merror:0.028407\tval-merror:0.1132\ttrain-f1_score:0.969079\tval-f1_score:0.861292\n",
            "[63]\ttrain-merror:0.027914\tval-merror:0.11315\ttrain-f1_score:0.96965\tval-f1_score:0.861259\n",
            "[64]\ttrain-merror:0.027321\tval-merror:0.1128\ttrain-f1_score:0.970326\tval-f1_score:0.861778\n",
            "[65]\ttrain-merror:0.026729\tval-merror:0.112467\ttrain-f1_score:0.971037\tval-f1_score:0.861986\n",
            "[66]\ttrain-merror:0.026279\tval-merror:0.11225\ttrain-f1_score:0.971553\tval-f1_score:0.862367\n",
            "[67]\ttrain-merror:0.025671\tval-merror:0.11205\ttrain-f1_score:0.972266\tval-f1_score:0.862988\n",
            "[68]\ttrain-merror:0.025179\tval-merror:0.111933\ttrain-f1_score:0.972947\tval-f1_score:0.862951\n",
            "[69]\ttrain-merror:0.024657\tval-merror:0.11175\ttrain-f1_score:0.973622\tval-f1_score:0.863122\n",
            "[70]\ttrain-merror:0.024093\tval-merror:0.11155\ttrain-f1_score:0.974261\tval-f1_score:0.863258\n",
            "[71]\ttrain-merror:0.02335\tval-merror:0.111367\ttrain-f1_score:0.975252\tval-f1_score:0.863664\n",
            "[72]\ttrain-merror:0.022814\tval-merror:0.111133\ttrain-f1_score:0.975987\tval-f1_score:0.863952\n",
            "[73]\ttrain-merror:0.022293\tval-merror:0.11095\ttrain-f1_score:0.976592\tval-f1_score:0.864365\n",
            "[74]\ttrain-merror:0.021686\tval-merror:0.110533\ttrain-f1_score:0.97728\tval-f1_score:0.864987\n",
            "[75]\ttrain-merror:0.02115\tval-merror:0.110233\ttrain-f1_score:0.977879\tval-f1_score:0.865445\n",
            "[76]\ttrain-merror:0.020571\tval-merror:0.110033\ttrain-f1_score:0.978568\tval-f1_score:0.866193\n",
            "[77]\ttrain-merror:0.020079\tval-merror:0.109733\ttrain-f1_score:0.979016\tval-f1_score:0.866313\n",
            "[78]\ttrain-merror:0.019593\tval-merror:0.109483\ttrain-f1_score:0.979562\tval-f1_score:0.866868\n",
            "[79]\ttrain-merror:0.019186\tval-merror:0.1092\ttrain-f1_score:0.979912\tval-f1_score:0.867302\n",
            "[80]\ttrain-merror:0.018629\tval-merror:0.108983\ttrain-f1_score:0.98053\tval-f1_score:0.867448\n",
            "[81]\ttrain-merror:0.018043\tval-merror:0.108917\ttrain-f1_score:0.98113\tval-f1_score:0.867567\n",
            "[82]\ttrain-merror:0.017571\tval-merror:0.108783\ttrain-f1_score:0.98172\tval-f1_score:0.86791\n",
            "[83]\ttrain-merror:0.017107\tval-merror:0.10855\ttrain-f1_score:0.982381\tval-f1_score:0.868178\n",
            "[84]\ttrain-merror:0.016543\tval-merror:0.10835\ttrain-f1_score:0.98306\tval-f1_score:0.868807\n",
            "[85]\ttrain-merror:0.016093\tval-merror:0.108133\ttrain-f1_score:0.983586\tval-f1_score:0.869032\n",
            "[86]\ttrain-merror:0.015664\tval-merror:0.107967\ttrain-f1_score:0.984012\tval-f1_score:0.869251\n",
            "[87]\ttrain-merror:0.015307\tval-merror:0.10775\ttrain-f1_score:0.984453\tval-f1_score:0.86924\n",
            "[88]\ttrain-merror:0.014986\tval-merror:0.107683\ttrain-f1_score:0.984751\tval-f1_score:0.869381\n",
            "[89]\ttrain-merror:0.014586\tval-merror:0.1073\ttrain-f1_score:0.985227\tval-f1_score:0.869651\n",
            "[90]\ttrain-merror:0.014229\tval-merror:0.107383\ttrain-f1_score:0.985625\tval-f1_score:0.869417\n",
            "[91]\ttrain-merror:0.013914\tval-merror:0.1072\ttrain-f1_score:0.986015\tval-f1_score:0.869821\n",
            "[92]\ttrain-merror:0.013529\tval-merror:0.1069\ttrain-f1_score:0.986522\tval-f1_score:0.870093\n",
            "[93]\ttrain-merror:0.013164\tval-merror:0.106833\ttrain-f1_score:0.986948\tval-f1_score:0.870154\n",
            "[94]\ttrain-merror:0.012743\tval-merror:0.106817\ttrain-f1_score:0.987487\tval-f1_score:0.870153\n",
            "[95]\ttrain-merror:0.01245\tval-merror:0.106583\ttrain-f1_score:0.987902\tval-f1_score:0.870419\n",
            "[96]\ttrain-merror:0.012093\tval-merror:0.106517\ttrain-f1_score:0.98818\tval-f1_score:0.870364\n",
            "[97]\ttrain-merror:0.011686\tval-merror:0.106167\ttrain-f1_score:0.988754\tval-f1_score:0.870659\n",
            "[98]\ttrain-merror:0.011379\tval-merror:0.10605\ttrain-f1_score:0.989018\tval-f1_score:0.870838\n",
            "[99]\ttrain-merror:0.011064\tval-merror:0.1058\ttrain-f1_score:0.989373\tval-f1_score:0.8713\n",
            "[100]\ttrain-merror:0.010743\tval-merror:0.105583\ttrain-f1_score:0.989652\tval-f1_score:0.871515\n",
            "[101]\ttrain-merror:0.010414\tval-merror:0.105417\ttrain-f1_score:0.989954\tval-f1_score:0.871583\n",
            "[102]\ttrain-merror:0.010057\tval-merror:0.1051\ttrain-f1_score:0.990244\tval-f1_score:0.872047\n",
            "[103]\ttrain-merror:0.009729\tval-merror:0.105133\ttrain-f1_score:0.990585\tval-f1_score:0.872004\n",
            "[104]\ttrain-merror:0.009386\tval-merror:0.105033\ttrain-f1_score:0.990906\tval-f1_score:0.872114\n",
            "[105]\ttrain-merror:0.009043\tval-merror:0.104983\ttrain-f1_score:0.99125\tval-f1_score:0.872241\n",
            "[106]\ttrain-merror:0.008807\tval-merror:0.10475\ttrain-f1_score:0.991446\tval-f1_score:0.872345\n",
            "[107]\ttrain-merror:0.008486\tval-merror:0.1046\ttrain-f1_score:0.991759\tval-f1_score:0.872493\n",
            "[108]\ttrain-merror:0.008214\tval-merror:0.104533\ttrain-f1_score:0.992018\tval-f1_score:0.872634\n",
            "[109]\ttrain-merror:0.007986\tval-merror:0.104217\ttrain-f1_score:0.992238\tval-f1_score:0.87316\n",
            "[110]\ttrain-merror:0.007721\tval-merror:0.10415\ttrain-f1_score:0.992508\tval-f1_score:0.87326\n",
            "[111]\ttrain-merror:0.007407\tval-merror:0.1041\ttrain-f1_score:0.99284\tval-f1_score:0.8733\n",
            "[112]\ttrain-merror:0.007186\tval-merror:0.104\ttrain-f1_score:0.993043\tval-f1_score:0.873545\n",
            "[113]\ttrain-merror:0.006943\tval-merror:0.1038\ttrain-f1_score:0.993307\tval-f1_score:0.873724\n",
            "[114]\ttrain-merror:0.006743\tval-merror:0.103733\ttrain-f1_score:0.993563\tval-f1_score:0.873942\n",
            "[115]\ttrain-merror:0.006471\tval-merror:0.103717\ttrain-f1_score:0.993808\tval-f1_score:0.873928\n",
            "[116]\ttrain-merror:0.006171\tval-merror:0.103667\ttrain-f1_score:0.994138\tval-f1_score:0.874022\n",
            "[117]\ttrain-merror:0.005936\tval-merror:0.103467\ttrain-f1_score:0.994377\tval-f1_score:0.874213\n",
            "[118]\ttrain-merror:0.005779\tval-merror:0.103317\ttrain-f1_score:0.994506\tval-f1_score:0.874488\n",
            "[119]\ttrain-merror:0.005557\tval-merror:0.103367\ttrain-f1_score:0.994688\tval-f1_score:0.874337\n",
            "[120]\ttrain-merror:0.005329\tval-merror:0.1033\ttrain-f1_score:0.994942\tval-f1_score:0.874406\n",
            "[121]\ttrain-merror:0.005129\tval-merror:0.10295\ttrain-f1_score:0.995167\tval-f1_score:0.874941\n",
            "[122]\ttrain-merror:0.004936\tval-merror:0.1028\ttrain-f1_score:0.995322\tval-f1_score:0.875252\n",
            "[123]\ttrain-merror:0.004707\tval-merror:0.10275\ttrain-f1_score:0.995527\tval-f1_score:0.875353\n",
            "[124]\ttrain-merror:0.004521\tval-merror:0.102767\ttrain-f1_score:0.995692\tval-f1_score:0.875234\n",
            "[125]\ttrain-merror:0.0044\tval-merror:0.102467\ttrain-f1_score:0.995778\tval-f1_score:0.875474\n",
            "[126]\ttrain-merror:0.004243\tval-merror:0.10225\ttrain-f1_score:0.995916\tval-f1_score:0.875894\n",
            "[127]\ttrain-merror:0.004129\tval-merror:0.102033\ttrain-f1_score:0.996045\tval-f1_score:0.876123\n",
            "[128]\ttrain-merror:0.003957\tval-merror:0.1019\ttrain-f1_score:0.996203\tval-f1_score:0.876393\n",
            "[129]\ttrain-merror:0.003857\tval-merror:0.101817\ttrain-f1_score:0.996301\tval-f1_score:0.876442\n",
            "[130]\ttrain-merror:0.003671\tval-merror:0.101683\ttrain-f1_score:0.99647\tval-f1_score:0.876836\n",
            "[131]\ttrain-merror:0.003536\tval-merror:0.10155\ttrain-f1_score:0.996599\tval-f1_score:0.876866\n",
            "[132]\ttrain-merror:0.003407\tval-merror:0.101517\ttrain-f1_score:0.996712\tval-f1_score:0.877092\n",
            "[133]\ttrain-merror:0.003321\tval-merror:0.10135\ttrain-f1_score:0.996872\tval-f1_score:0.877195\n",
            "[134]\ttrain-merror:0.003186\tval-merror:0.1011\ttrain-f1_score:0.996983\tval-f1_score:0.877174\n",
            "[135]\ttrain-merror:0.003121\tval-merror:0.101117\ttrain-f1_score:0.997035\tval-f1_score:0.876998\n",
            "[136]\ttrain-merror:0.0029\tval-merror:0.1012\ttrain-f1_score:0.997237\tval-f1_score:0.877068\n",
            "[137]\ttrain-merror:0.002821\tval-merror:0.100833\ttrain-f1_score:0.997302\tval-f1_score:0.877728\n",
            "[138]\ttrain-merror:0.002693\tval-merror:0.1008\ttrain-f1_score:0.997421\tval-f1_score:0.877776\n",
            "[139]\ttrain-merror:0.002593\tval-merror:0.100833\ttrain-f1_score:0.997516\tval-f1_score:0.877613\n",
            "[140]\ttrain-merror:0.002536\tval-merror:0.100683\ttrain-f1_score:0.99762\tval-f1_score:0.878\n",
            "[141]\ttrain-merror:0.0024\tval-merror:0.100567\ttrain-f1_score:0.997747\tval-f1_score:0.878252\n",
            "[142]\ttrain-merror:0.002357\tval-merror:0.1004\ttrain-f1_score:0.997786\tval-f1_score:0.878569\n",
            "[143]\ttrain-merror:0.002221\tval-merror:0.100383\ttrain-f1_score:0.997881\tval-f1_score:0.878557\n",
            "[144]\ttrain-merror:0.002114\tval-merror:0.1001\ttrain-f1_score:0.997978\tval-f1_score:0.878825\n",
            "[145]\ttrain-merror:0.002043\tval-merror:0.10025\ttrain-f1_score:0.998012\tval-f1_score:0.878782\n",
            "[146]\ttrain-merror:0.001921\tval-merror:0.100083\ttrain-f1_score:0.998127\tval-f1_score:0.878961\n",
            "[147]\ttrain-merror:0.001843\tval-merror:0.100033\ttrain-f1_score:0.998235\tval-f1_score:0.879059\n",
            "[148]\ttrain-merror:0.001814\tval-merror:0.099867\ttrain-f1_score:0.998267\tval-f1_score:0.87918\n",
            "[149]\ttrain-merror:0.001714\tval-merror:0.099817\ttrain-f1_score:0.998371\tval-f1_score:0.879281\n",
            "[150]\ttrain-merror:0.001636\tval-merror:0.0997\ttrain-f1_score:0.998418\tval-f1_score:0.879327\n",
            "[151]\ttrain-merror:0.001579\tval-merror:0.09965\ttrain-f1_score:0.99846\tval-f1_score:0.879421\n",
            "[152]\ttrain-merror:0.001514\tval-merror:0.099533\ttrain-f1_score:0.998503\tval-f1_score:0.879608\n",
            "[153]\ttrain-merror:0.001464\tval-merror:0.099483\ttrain-f1_score:0.998569\tval-f1_score:0.879643\n",
            "[154]\ttrain-merror:0.001429\tval-merror:0.099417\ttrain-f1_score:0.998607\tval-f1_score:0.879741\n",
            "[155]\ttrain-merror:0.001314\tval-merror:0.099117\ttrain-f1_score:0.998722\tval-f1_score:0.880385\n",
            "[156]\ttrain-merror:0.001271\tval-merror:0.099133\ttrain-f1_score:0.998755\tval-f1_score:0.880369\n",
            "[157]\ttrain-merror:0.001179\tval-merror:0.099\ttrain-f1_score:0.998859\tval-f1_score:0.880559\n",
            "[158]\ttrain-merror:0.001136\tval-merror:0.098933\ttrain-f1_score:0.99889\tval-f1_score:0.880624\n",
            "[159]\ttrain-merror:0.001121\tval-merror:0.098733\ttrain-f1_score:0.998905\tval-f1_score:0.880854\n",
            "[160]\ttrain-merror:0.00105\tval-merror:0.0986\ttrain-f1_score:0.998984\tval-f1_score:0.880991\n",
            "[161]\ttrain-merror:0.001014\tval-merror:0.098617\ttrain-f1_score:0.999012\tval-f1_score:0.881008\n",
            "[162]\ttrain-merror:0.000943\tval-merror:0.09845\ttrain-f1_score:0.999075\tval-f1_score:0.881139\n",
            "[163]\ttrain-merror:0.000893\tval-merror:0.098367\ttrain-f1_score:0.999106\tval-f1_score:0.881372\n",
            "[164]\ttrain-merror:0.000857\tval-merror:0.098267\ttrain-f1_score:0.999131\tval-f1_score:0.881516\n",
            "[165]\ttrain-merror:0.000836\tval-merror:0.098117\ttrain-f1_score:0.99915\tval-f1_score:0.881617\n",
            "[166]\ttrain-merror:0.000821\tval-merror:0.098167\ttrain-f1_score:0.999169\tval-f1_score:0.881529\n",
            "[167]\ttrain-merror:0.000764\tval-merror:0.098183\ttrain-f1_score:0.999209\tval-f1_score:0.881484\n",
            "[168]\ttrain-merror:0.000743\tval-merror:0.098\ttrain-f1_score:0.999221\tval-f1_score:0.881617\n",
            "[169]\ttrain-merror:0.000693\tval-merror:0.097883\ttrain-f1_score:0.999268\tval-f1_score:0.881706\n",
            "[170]\ttrain-merror:0.000664\tval-merror:0.0981\ttrain-f1_score:0.999297\tval-f1_score:0.881573\n",
            "[171]\ttrain-merror:0.000629\tval-merror:0.097983\ttrain-f1_score:0.999323\tval-f1_score:0.881699\n",
            "[172]\ttrain-merror:0.000593\tval-merror:0.0978\ttrain-f1_score:0.999353\tval-f1_score:0.881774\n",
            "[173]\ttrain-merror:0.00055\tval-merror:0.097667\ttrain-f1_score:0.999394\tval-f1_score:0.881992\n",
            "[174]\ttrain-merror:0.000514\tval-merror:0.097667\ttrain-f1_score:0.999465\tval-f1_score:0.881995\n",
            "[175]\ttrain-merror:0.000486\tval-merror:0.097533\ttrain-f1_score:0.999482\tval-f1_score:0.882077\n",
            "[176]\ttrain-merror:0.000479\tval-merror:0.09745\ttrain-f1_score:0.999488\tval-f1_score:0.88234\n",
            "[177]\ttrain-merror:0.000429\tval-merror:0.097333\ttrain-f1_score:0.999533\tval-f1_score:0.882424\n",
            "[178]\ttrain-merror:0.000379\tval-merror:0.097267\ttrain-f1_score:0.999596\tval-f1_score:0.882422\n",
            "[179]\ttrain-merror:0.000364\tval-merror:0.097233\ttrain-f1_score:0.999605\tval-f1_score:0.882394\n",
            "[180]\ttrain-merror:0.000343\tval-merror:0.097033\ttrain-f1_score:0.999629\tval-f1_score:0.882709\n",
            "[181]\ttrain-merror:0.000343\tval-merror:0.097017\ttrain-f1_score:0.999622\tval-f1_score:0.882703\n",
            "[182]\ttrain-merror:0.000336\tval-merror:0.096933\ttrain-f1_score:0.999626\tval-f1_score:0.882762\n",
            "[183]\ttrain-merror:0.000307\tval-merror:0.0969\ttrain-f1_score:0.999661\tval-f1_score:0.882963\n",
            "[184]\ttrain-merror:0.0003\tval-merror:0.096867\ttrain-f1_score:0.999663\tval-f1_score:0.882913\n",
            "[185]\ttrain-merror:0.000286\tval-merror:0.09695\ttrain-f1_score:0.999677\tval-f1_score:0.882807\n",
            "[186]\ttrain-merror:0.000257\tval-merror:0.096833\ttrain-f1_score:0.999708\tval-f1_score:0.882893\n",
            "[187]\ttrain-merror:0.000257\tval-merror:0.096783\ttrain-f1_score:0.999708\tval-f1_score:0.882834\n",
            "[188]\ttrain-merror:0.000243\tval-merror:0.096667\ttrain-f1_score:0.999718\tval-f1_score:0.882997\n",
            "[189]\ttrain-merror:0.000236\tval-merror:0.096467\ttrain-f1_score:0.999721\tval-f1_score:0.883171\n",
            "[190]\ttrain-merror:0.000229\tval-merror:0.096483\ttrain-f1_score:0.999726\tval-f1_score:0.883145\n",
            "[191]\ttrain-merror:0.000221\tval-merror:0.096467\ttrain-f1_score:0.999735\tval-f1_score:0.883189\n",
            "[192]\ttrain-merror:0.000207\tval-merror:0.096333\ttrain-f1_score:0.999776\tval-f1_score:0.883304\n",
            "[193]\ttrain-merror:0.000207\tval-merror:0.0963\ttrain-f1_score:0.999776\tval-f1_score:0.883225\n",
            "[194]\ttrain-merror:0.000207\tval-merror:0.096267\ttrain-f1_score:0.999776\tval-f1_score:0.883423\n",
            "[195]\ttrain-merror:0.000207\tval-merror:0.096083\ttrain-f1_score:0.999776\tval-f1_score:0.883626\n",
            "[196]\ttrain-merror:0.0002\tval-merror:0.095983\ttrain-f1_score:0.999781\tval-f1_score:0.883809\n",
            "[197]\ttrain-merror:0.000186\tval-merror:0.095883\ttrain-f1_score:0.999815\tval-f1_score:0.88389\n",
            "[198]\ttrain-merror:0.000179\tval-merror:0.09585\ttrain-f1_score:0.999819\tval-f1_score:0.883859\n",
            "[199]\ttrain-merror:0.000164\tval-merror:0.095867\ttrain-f1_score:0.999829\tval-f1_score:0.883835\n"
          ]
        }
      ]
    },
    {
      "cell_type": "code",
      "metadata": {
        "id": "RSZMC1jlYYAl"
      },
      "source": [
        "y_pred_prob = xg_model.predict(xg_test)\n",
        "y_pred = y_pred_prob.argmax(axis=-1)\n",
        "submit_xgb = pd.DataFrame(y_pred, columns=['label'])\n",
        "submit_xgb.to_csv('./submit/submit_xgb.csv', index=False)"
      ],
      "id": "RSZMC1jlYYAl",
      "execution_count": 9,
      "outputs": []
    },
    {
      "cell_type": "code",
      "metadata": {
        "id": "WD35ozbxLkCR"
      },
      "source": [
        "import numpy as np\n",
        "import pandas as pd\n",
        "import xgboost as xgb\n",
        "from sklearn.metrics import f1_score\n",
        "from sklearn.model_selection import train_test_split, StratifiedKFold\n",
        "from sklearn.decomposition import TruncatedSVD\n",
        "\n",
        "svd = TruncatedSVD(n_components=682)\n",
        "svd.fit(X_train)\n",
        "svd_X_train = svd.transform(X_train)\n",
        "svd_X_test = svd.transform(X_test)\n",
        "\n",
        "X_train_, X_valid_, y_train_, y_valid_ = train_test_split(svd_X_train, y_train, test_size=0.3, random_state=0)\n",
        "\n",
        "\n",
        "xg_params = {\n",
        "    'tree_method': 'gpu_hist',\n",
        "    'booster': 'gbtree',\n",
        "    'objective': 'multi:softprob',\n",
        "    'num_class': 14,\n",
        "    'max_depth': 6,\n",
        "    'eta': 0.01,\n",
        "    'subsample': 0.8,\n",
        "    'colsample_bytree': 0.8\n",
        "    'nthread': -1,\n",
        "    'seed':0,\n",
        "}\n",
        "\n",
        "def xgb_f1(y_pred: np.ndarray, dtrain: xgb.DMatrix):\n",
        "    ''' F1 score metric''' \n",
        "    y_true = dtrain.get_label()\n",
        "    y_pred = y_pred.argmax(axis=-1)\n",
        "    return 'f1_score', f1_score(y_true, y_pred, average='macro')\n",
        "\n",
        "\n",
        "xg_train = xgb.DMatrix(X_train_, label=y_train_)\n",
        "xg_valid = xgb.DMatrix(X_valid_, label=y_valid_)\n",
        "xg_test = xgb.DMatrix(svd_X_test)\n",
        "\n",
        "num_rounds = 200\n",
        "watchlist = [(xg_train, 'train'), (xg_valid, 'val')] \n",
        "\n",
        "xg_model = xgb.train(params=xg_params, \n",
        "                     dtrain=xg_train, \n",
        "                     num_boost_round=num_rounds, \n",
        "                     evals=watchlist, \n",
        "                     feval=xgb_f1)\n",
        "\n",
        "xg_model.save_model('./model/xgb.model')\n"
      ],
      "id": "WD35ozbxLkCR",
      "execution_count": null,
      "outputs": []
    },
    {
      "cell_type": "code",
      "metadata": {
        "colab": {
          "base_uri": "https://localhost:8080/"
        },
        "id": "Pd03Wpu7alWQ",
        "outputId": "03f46bc2-4969-4018-cecb-5d0bdc23a602"
      },
      "source": [
        "xg_params = {\n",
        "    'tree_method': 'gpu_hist',\n",
        "    'booster': 'gbtree',\n",
        "    'objective': 'multi:softprob',\n",
        "    'num_class': 14,\n",
        "    'max_depth': 6,\n",
        "    'eta': 0.1,\n",
        "    'subsample': 0.8,\n",
        "    'colsample_bytree': 0.8,\n",
        "    'nthread': -1,\n",
        "    'seed':0\n",
        "}\n",
        "\n",
        "def xgb_f1(y_pred: np.ndarray, dtrain: xgb.DMatrix):\n",
        "    ''' F1 score metric''' \n",
        "    y_true = dtrain.get_label()\n",
        "    y_pred = y_pred.argmax(axis=-1)\n",
        "    return 'f1_score', f1_score(y_true, y_pred, average='macro')\n",
        "\n",
        "\n",
        "xg_train = xgb.DMatrix(X_train_, label=y_train_)\n",
        "xg_valid = xgb.DMatrix(X_valid_, label=y_valid_)\n",
        "xg_test = xgb.DMatrix(svd_X_test)\n",
        "\n",
        "num_rounds = 200\n",
        "watchlist = [(xg_train, 'train'), (xg_valid, 'val')] \n",
        "\n",
        "xg_model = xgb.train(params=xg_params, \n",
        "                     dtrain=xg_train, \n",
        "                     num_boost_round=num_rounds, \n",
        "                     evals=watchlist, \n",
        "                     feval=xgb_f1)\n"
      ],
      "id": "Pd03Wpu7alWQ",
      "execution_count": 13,
      "outputs": [
        {
          "output_type": "stream",
          "name": "stdout",
          "text": [
            "[0]\ttrain-merror:0.194993\tval-merror:0.209933\ttrain-f1_score:0.755721\tval-f1_score:0.728319\n",
            "[1]\ttrain-merror:0.165671\tval-merror:0.1791\ttrain-f1_score:0.794589\tval-f1_score:0.770221\n",
            "[2]\ttrain-merror:0.158593\tval-merror:0.171483\ttrain-f1_score:0.805595\tval-f1_score:0.781856\n",
            "[3]\ttrain-merror:0.154529\tval-merror:0.16715\ttrain-f1_score:0.812313\tval-f1_score:0.788848\n",
            "[4]\ttrain-merror:0.151879\tval-merror:0.16455\ttrain-f1_score:0.816508\tval-f1_score:0.793591\n",
            "[5]\ttrain-merror:0.151429\tval-merror:0.163833\ttrain-f1_score:0.815863\tval-f1_score:0.793634\n",
            "[6]\ttrain-merror:0.149629\tval-merror:0.162367\ttrain-f1_score:0.818158\tval-f1_score:0.795474\n",
            "[7]\ttrain-merror:0.148621\tval-merror:0.162267\ttrain-f1_score:0.818676\tval-f1_score:0.794097\n",
            "[8]\ttrain-merror:0.147107\tval-merror:0.159683\ttrain-f1_score:0.820386\tval-f1_score:0.797281\n",
            "[9]\ttrain-merror:0.144771\tval-merror:0.15845\ttrain-f1_score:0.822614\tval-f1_score:0.797928\n",
            "[10]\ttrain-merror:0.144\tval-merror:0.15765\ttrain-f1_score:0.823102\tval-f1_score:0.799525\n",
            "[11]\ttrain-merror:0.14335\tval-merror:0.156633\ttrain-f1_score:0.823799\tval-f1_score:0.800415\n",
            "[12]\ttrain-merror:0.143007\tval-merror:0.156367\ttrain-f1_score:0.824179\tval-f1_score:0.800713\n",
            "[13]\ttrain-merror:0.141957\tval-merror:0.155717\ttrain-f1_score:0.825351\tval-f1_score:0.801419\n",
            "[14]\ttrain-merror:0.1415\tval-merror:0.15485\ttrain-f1_score:0.825669\tval-f1_score:0.802357\n",
            "[15]\ttrain-merror:0.1408\tval-merror:0.154033\ttrain-f1_score:0.826568\tval-f1_score:0.803533\n",
            "[16]\ttrain-merror:0.140379\tval-merror:0.15385\ttrain-f1_score:0.827082\tval-f1_score:0.803831\n",
            "[17]\ttrain-merror:0.139986\tval-merror:0.15305\ttrain-f1_score:0.827311\tval-f1_score:0.804015\n",
            "[18]\ttrain-merror:0.139793\tval-merror:0.1527\ttrain-f1_score:0.82765\tval-f1_score:0.804793\n",
            "[19]\ttrain-merror:0.139571\tval-merror:0.152567\ttrain-f1_score:0.828226\tval-f1_score:0.805575\n",
            "[20]\ttrain-merror:0.139529\tval-merror:0.15215\ttrain-f1_score:0.82802\tval-f1_score:0.806211\n",
            "[21]\ttrain-merror:0.138729\tval-merror:0.151317\ttrain-f1_score:0.82893\tval-f1_score:0.806607\n",
            "[22]\ttrain-merror:0.137857\tval-merror:0.151067\ttrain-f1_score:0.829849\tval-f1_score:0.806988\n",
            "[23]\ttrain-merror:0.13755\tval-merror:0.15065\ttrain-f1_score:0.830268\tval-f1_score:0.807483\n",
            "[24]\ttrain-merror:0.137379\tval-merror:0.150333\ttrain-f1_score:0.830432\tval-f1_score:0.808224\n",
            "[25]\ttrain-merror:0.137557\tval-merror:0.150283\ttrain-f1_score:0.830216\tval-f1_score:0.807832\n",
            "[26]\ttrain-merror:0.137443\tval-merror:0.15095\ttrain-f1_score:0.830637\tval-f1_score:0.807572\n",
            "[27]\ttrain-merror:0.137214\tval-merror:0.150567\ttrain-f1_score:0.831124\tval-f1_score:0.808044\n",
            "[28]\ttrain-merror:0.136979\tval-merror:0.150517\ttrain-f1_score:0.831561\tval-f1_score:0.807972\n",
            "[29]\ttrain-merror:0.13695\tval-merror:0.150567\ttrain-f1_score:0.832062\tval-f1_score:0.80876\n",
            "[30]\ttrain-merror:0.136629\tval-merror:0.150367\ttrain-f1_score:0.832346\tval-f1_score:0.80877\n",
            "[31]\ttrain-merror:0.136307\tval-merror:0.150317\ttrain-f1_score:0.832898\tval-f1_score:0.809259\n",
            "[32]\ttrain-merror:0.135907\tval-merror:0.150133\ttrain-f1_score:0.833024\tval-f1_score:0.809404\n",
            "[33]\ttrain-merror:0.135614\tval-merror:0.1498\ttrain-f1_score:0.833751\tval-f1_score:0.810178\n",
            "[34]\ttrain-merror:0.135343\tval-merror:0.14995\ttrain-f1_score:0.834075\tval-f1_score:0.809936\n",
            "[35]\ttrain-merror:0.135271\tval-merror:0.149867\ttrain-f1_score:0.834413\tval-f1_score:0.809712\n",
            "[36]\ttrain-merror:0.135071\tval-merror:0.1494\ttrain-f1_score:0.83482\tval-f1_score:0.809992\n",
            "[37]\ttrain-merror:0.134857\tval-merror:0.1491\ttrain-f1_score:0.835248\tval-f1_score:0.810921\n",
            "[38]\ttrain-merror:0.134614\tval-merror:0.148933\ttrain-f1_score:0.835455\tval-f1_score:0.811185\n",
            "[39]\ttrain-merror:0.134564\tval-merror:0.148933\ttrain-f1_score:0.835529\tval-f1_score:0.81129\n",
            "[40]\ttrain-merror:0.134543\tval-merror:0.149\ttrain-f1_score:0.835558\tval-f1_score:0.811334\n",
            "[41]\ttrain-merror:0.134286\tval-merror:0.148917\ttrain-f1_score:0.835908\tval-f1_score:0.811803\n",
            "[42]\ttrain-merror:0.134257\tval-merror:0.148717\ttrain-f1_score:0.836203\tval-f1_score:0.812111\n",
            "[43]\ttrain-merror:0.13415\tval-merror:0.148383\ttrain-f1_score:0.836455\tval-f1_score:0.81261\n",
            "[44]\ttrain-merror:0.133907\tval-merror:0.148283\ttrain-f1_score:0.837118\tval-f1_score:0.812831\n",
            "[45]\ttrain-merror:0.133793\tval-merror:0.148067\ttrain-f1_score:0.837207\tval-f1_score:0.812961\n",
            "[46]\ttrain-merror:0.133571\tval-merror:0.147917\ttrain-f1_score:0.837723\tval-f1_score:0.813395\n",
            "[47]\ttrain-merror:0.13345\tval-merror:0.147883\ttrain-f1_score:0.838291\tval-f1_score:0.813357\n",
            "[48]\ttrain-merror:0.133286\tval-merror:0.14785\ttrain-f1_score:0.838554\tval-f1_score:0.81349\n",
            "[49]\ttrain-merror:0.133186\tval-merror:0.1477\ttrain-f1_score:0.838526\tval-f1_score:0.813852\n",
            "[50]\ttrain-merror:0.133021\tval-merror:0.147417\ttrain-f1_score:0.838776\tval-f1_score:0.813916\n",
            "[51]\ttrain-merror:0.132929\tval-merror:0.147317\ttrain-f1_score:0.839191\tval-f1_score:0.813969\n",
            "[52]\ttrain-merror:0.132686\tval-merror:0.146967\ttrain-f1_score:0.839345\tval-f1_score:0.81446\n",
            "[53]\ttrain-merror:0.132593\tval-merror:0.1469\ttrain-f1_score:0.839355\tval-f1_score:0.814682\n",
            "[54]\ttrain-merror:0.132307\tval-merror:0.1467\ttrain-f1_score:0.839809\tval-f1_score:0.814555\n",
            "[55]\ttrain-merror:0.132364\tval-merror:0.146717\ttrain-f1_score:0.83971\tval-f1_score:0.814597\n",
            "[56]\ttrain-merror:0.132164\tval-merror:0.146633\ttrain-f1_score:0.840046\tval-f1_score:0.814948\n",
            "[57]\ttrain-merror:0.131843\tval-merror:0.1464\ttrain-f1_score:0.840352\tval-f1_score:0.815251\n",
            "[58]\ttrain-merror:0.131821\tval-merror:0.146367\ttrain-f1_score:0.840438\tval-f1_score:0.815326\n",
            "[59]\ttrain-merror:0.131707\tval-merror:0.146117\ttrain-f1_score:0.840607\tval-f1_score:0.815313\n",
            "[60]\ttrain-merror:0.131571\tval-merror:0.145867\ttrain-f1_score:0.840904\tval-f1_score:0.815413\n",
            "[61]\ttrain-merror:0.131457\tval-merror:0.145717\ttrain-f1_score:0.841314\tval-f1_score:0.815843\n",
            "[62]\ttrain-merror:0.131393\tval-merror:0.145733\ttrain-f1_score:0.841318\tval-f1_score:0.815911\n",
            "[63]\ttrain-merror:0.13115\tval-merror:0.14545\ttrain-f1_score:0.84179\tval-f1_score:0.815941\n",
            "[64]\ttrain-merror:0.131036\tval-merror:0.14545\ttrain-f1_score:0.841922\tval-f1_score:0.816298\n",
            "[65]\ttrain-merror:0.130857\tval-merror:0.1454\ttrain-f1_score:0.8421\tval-f1_score:0.816309\n",
            "[66]\ttrain-merror:0.130779\tval-merror:0.145267\ttrain-f1_score:0.842348\tval-f1_score:0.816384\n",
            "[67]\ttrain-merror:0.130686\tval-merror:0.145217\ttrain-f1_score:0.842609\tval-f1_score:0.816972\n",
            "[68]\ttrain-merror:0.130543\tval-merror:0.145117\ttrain-f1_score:0.842809\tval-f1_score:0.817047\n",
            "[69]\ttrain-merror:0.130264\tval-merror:0.144833\ttrain-f1_score:0.843134\tval-f1_score:0.817363\n",
            "[70]\ttrain-merror:0.130193\tval-merror:0.144683\ttrain-f1_score:0.843218\tval-f1_score:0.817408\n",
            "[71]\ttrain-merror:0.129986\tval-merror:0.144667\ttrain-f1_score:0.843343\tval-f1_score:0.817785\n",
            "[72]\ttrain-merror:0.129857\tval-merror:0.144717\ttrain-f1_score:0.84371\tval-f1_score:0.81732\n",
            "[73]\ttrain-merror:0.129679\tval-merror:0.14455\ttrain-f1_score:0.844056\tval-f1_score:0.817575\n",
            "[74]\ttrain-merror:0.12955\tval-merror:0.1445\ttrain-f1_score:0.844011\tval-f1_score:0.817773\n",
            "[75]\ttrain-merror:0.129571\tval-merror:0.144517\ttrain-f1_score:0.844001\tval-f1_score:0.817604\n",
            "[76]\ttrain-merror:0.129493\tval-merror:0.1445\ttrain-f1_score:0.844271\tval-f1_score:0.817567\n",
            "[77]\ttrain-merror:0.129279\tval-merror:0.144467\ttrain-f1_score:0.844528\tval-f1_score:0.81784\n",
            "[78]\ttrain-merror:0.129164\tval-merror:0.14425\ttrain-f1_score:0.84476\tval-f1_score:0.818585\n",
            "[79]\ttrain-merror:0.129014\tval-merror:0.144283\ttrain-f1_score:0.844998\tval-f1_score:0.81841\n",
            "[80]\ttrain-merror:0.12895\tval-merror:0.14415\ttrain-f1_score:0.84532\tval-f1_score:0.818541\n",
            "[81]\ttrain-merror:0.128807\tval-merror:0.14395\ttrain-f1_score:0.845439\tval-f1_score:0.819101\n",
            "[82]\ttrain-merror:0.1286\tval-merror:0.143883\ttrain-f1_score:0.845645\tval-f1_score:0.819405\n",
            "[83]\ttrain-merror:0.12835\tval-merror:0.143783\ttrain-f1_score:0.845926\tval-f1_score:0.819526\n",
            "[84]\ttrain-merror:0.12825\tval-merror:0.143767\ttrain-f1_score:0.846065\tval-f1_score:0.819566\n",
            "[85]\ttrain-merror:0.128107\tval-merror:0.14365\ttrain-f1_score:0.846112\tval-f1_score:0.819726\n",
            "[86]\ttrain-merror:0.12805\tval-merror:0.143617\ttrain-f1_score:0.84631\tval-f1_score:0.819629\n",
            "[87]\ttrain-merror:0.127857\tval-merror:0.143583\ttrain-f1_score:0.846622\tval-f1_score:0.819846\n",
            "[88]\ttrain-merror:0.1278\tval-merror:0.143333\ttrain-f1_score:0.846715\tval-f1_score:0.820224\n",
            "[89]\ttrain-merror:0.127671\tval-merror:0.1434\ttrain-f1_score:0.846832\tval-f1_score:0.820207\n",
            "[90]\ttrain-merror:0.127593\tval-merror:0.14325\ttrain-f1_score:0.847051\tval-f1_score:0.820471\n",
            "[91]\ttrain-merror:0.127379\tval-merror:0.143217\ttrain-f1_score:0.847256\tval-f1_score:0.820358\n",
            "[92]\ttrain-merror:0.127236\tval-merror:0.143067\ttrain-f1_score:0.847394\tval-f1_score:0.820505\n",
            "[93]\ttrain-merror:0.127129\tval-merror:0.142883\ttrain-f1_score:0.847474\tval-f1_score:0.821032\n",
            "[94]\ttrain-merror:0.127071\tval-merror:0.1428\ttrain-f1_score:0.847535\tval-f1_score:0.82104\n",
            "[95]\ttrain-merror:0.127014\tval-merror:0.142767\ttrain-f1_score:0.847667\tval-f1_score:0.821102\n",
            "[96]\ttrain-merror:0.126829\tval-merror:0.1426\ttrain-f1_score:0.84798\tval-f1_score:0.821398\n",
            "[97]\ttrain-merror:0.126821\tval-merror:0.142533\ttrain-f1_score:0.847866\tval-f1_score:0.821452\n",
            "[98]\ttrain-merror:0.126679\tval-merror:0.1424\ttrain-f1_score:0.848005\tval-f1_score:0.821599\n",
            "[99]\ttrain-merror:0.126493\tval-merror:0.1423\ttrain-f1_score:0.84832\tval-f1_score:0.821951\n",
            "[100]\ttrain-merror:0.126407\tval-merror:0.1423\ttrain-f1_score:0.848438\tval-f1_score:0.822076\n",
            "[101]\ttrain-merror:0.126193\tval-merror:0.14235\ttrain-f1_score:0.848647\tval-f1_score:0.822009\n",
            "[102]\ttrain-merror:0.12605\tval-merror:0.142183\ttrain-f1_score:0.848943\tval-f1_score:0.822266\n",
            "[103]\ttrain-merror:0.125886\tval-merror:0.142067\ttrain-f1_score:0.849086\tval-f1_score:0.822203\n",
            "[104]\ttrain-merror:0.125807\tval-merror:0.141983\ttrain-f1_score:0.849268\tval-f1_score:0.822394\n",
            "[105]\ttrain-merror:0.125657\tval-merror:0.141783\ttrain-f1_score:0.849303\tval-f1_score:0.822515\n",
            "[106]\ttrain-merror:0.1256\tval-merror:0.141783\ttrain-f1_score:0.849347\tval-f1_score:0.822509\n",
            "[107]\ttrain-merror:0.125486\tval-merror:0.141833\ttrain-f1_score:0.849536\tval-f1_score:0.82247\n",
            "[108]\ttrain-merror:0.125336\tval-merror:0.141467\ttrain-f1_score:0.849688\tval-f1_score:0.823026\n",
            "[109]\ttrain-merror:0.125286\tval-merror:0.141467\ttrain-f1_score:0.849649\tval-f1_score:0.822987\n",
            "[110]\ttrain-merror:0.125214\tval-merror:0.14135\ttrain-f1_score:0.849923\tval-f1_score:0.823104\n",
            "[111]\ttrain-merror:0.125043\tval-merror:0.14105\ttrain-f1_score:0.850056\tval-f1_score:0.823433\n",
            "[112]\ttrain-merror:0.124893\tval-merror:0.14125\ttrain-f1_score:0.850239\tval-f1_score:0.823248\n",
            "[113]\ttrain-merror:0.124793\tval-merror:0.141183\ttrain-f1_score:0.850351\tval-f1_score:0.823242\n",
            "[114]\ttrain-merror:0.124586\tval-merror:0.141033\ttrain-f1_score:0.850743\tval-f1_score:0.8234\n",
            "[115]\ttrain-merror:0.124464\tval-merror:0.1409\ttrain-f1_score:0.850981\tval-f1_score:0.823521\n",
            "[116]\ttrain-merror:0.124371\tval-merror:0.140983\ttrain-f1_score:0.851164\tval-f1_score:0.823666\n",
            "[117]\ttrain-merror:0.124257\tval-merror:0.14085\ttrain-f1_score:0.851261\tval-f1_score:0.823843\n",
            "[118]\ttrain-merror:0.124229\tval-merror:0.1408\ttrain-f1_score:0.851354\tval-f1_score:0.823742\n",
            "[119]\ttrain-merror:0.124214\tval-merror:0.140717\ttrain-f1_score:0.851322\tval-f1_score:0.823786\n",
            "[120]\ttrain-merror:0.124136\tval-merror:0.1407\ttrain-f1_score:0.851385\tval-f1_score:0.823697\n",
            "[121]\ttrain-merror:0.12395\tval-merror:0.140583\ttrain-f1_score:0.851594\tval-f1_score:0.823917\n",
            "[122]\ttrain-merror:0.123886\tval-merror:0.140483\ttrain-f1_score:0.851801\tval-f1_score:0.823931\n",
            "[123]\ttrain-merror:0.123757\tval-merror:0.1404\ttrain-f1_score:0.851864\tval-f1_score:0.824178\n",
            "[124]\ttrain-merror:0.123707\tval-merror:0.1404\ttrain-f1_score:0.851935\tval-f1_score:0.824067\n",
            "[125]\ttrain-merror:0.123521\tval-merror:0.140217\ttrain-f1_score:0.852102\tval-f1_score:0.824376\n",
            "[126]\ttrain-merror:0.123307\tval-merror:0.140083\ttrain-f1_score:0.852411\tval-f1_score:0.824548\n",
            "[127]\ttrain-merror:0.123229\tval-merror:0.139967\ttrain-f1_score:0.852504\tval-f1_score:0.824687\n",
            "[128]\ttrain-merror:0.122979\tval-merror:0.1398\ttrain-f1_score:0.852956\tval-f1_score:0.824806\n",
            "[129]\ttrain-merror:0.122964\tval-merror:0.139783\ttrain-f1_score:0.853029\tval-f1_score:0.824823\n",
            "[130]\ttrain-merror:0.122786\tval-merror:0.139617\ttrain-f1_score:0.853253\tval-f1_score:0.824932\n",
            "[131]\ttrain-merror:0.122657\tval-merror:0.139533\ttrain-f1_score:0.853328\tval-f1_score:0.825064\n",
            "[132]\ttrain-merror:0.122579\tval-merror:0.139433\ttrain-f1_score:0.853546\tval-f1_score:0.825226\n",
            "[133]\ttrain-merror:0.122414\tval-merror:0.1394\ttrain-f1_score:0.853623\tval-f1_score:0.825311\n",
            "[134]\ttrain-merror:0.12235\tval-merror:0.1394\ttrain-f1_score:0.853657\tval-f1_score:0.825429\n",
            "[135]\ttrain-merror:0.12225\tval-merror:0.139383\ttrain-f1_score:0.853813\tval-f1_score:0.82549\n",
            "[136]\ttrain-merror:0.122179\tval-merror:0.139333\ttrain-f1_score:0.853893\tval-f1_score:0.825686\n",
            "[137]\ttrain-merror:0.122157\tval-merror:0.139233\ttrain-f1_score:0.854161\tval-f1_score:0.825771\n",
            "[138]\ttrain-merror:0.122043\tval-merror:0.139217\ttrain-f1_score:0.854148\tval-f1_score:0.825837\n",
            "[139]\ttrain-merror:0.121957\tval-merror:0.1391\ttrain-f1_score:0.85431\tval-f1_score:0.825867\n",
            "[140]\ttrain-merror:0.121929\tval-merror:0.138983\ttrain-f1_score:0.854339\tval-f1_score:0.826142\n",
            "[141]\ttrain-merror:0.121829\tval-merror:0.138983\ttrain-f1_score:0.854478\tval-f1_score:0.8262\n",
            "[142]\ttrain-merror:0.1217\tval-merror:0.138833\ttrain-f1_score:0.854621\tval-f1_score:0.826292\n",
            "[143]\ttrain-merror:0.121621\tval-merror:0.138833\ttrain-f1_score:0.854794\tval-f1_score:0.8262\n",
            "[144]\ttrain-merror:0.121479\tval-merror:0.138767\ttrain-f1_score:0.854939\tval-f1_score:0.826484\n",
            "[145]\ttrain-merror:0.121343\tval-merror:0.138667\ttrain-f1_score:0.855083\tval-f1_score:0.826598\n",
            "[146]\ttrain-merror:0.121243\tval-merror:0.138567\ttrain-f1_score:0.855258\tval-f1_score:0.826833\n",
            "[147]\ttrain-merror:0.121129\tval-merror:0.13855\ttrain-f1_score:0.85552\tval-f1_score:0.826852\n",
            "[148]\ttrain-merror:0.120936\tval-merror:0.138467\ttrain-f1_score:0.855579\tval-f1_score:0.82691\n",
            "[149]\ttrain-merror:0.120807\tval-merror:0.138467\ttrain-f1_score:0.855809\tval-f1_score:0.827176\n",
            "[150]\ttrain-merror:0.120736\tval-merror:0.138383\ttrain-f1_score:0.855894\tval-f1_score:0.827249\n",
            "[151]\ttrain-merror:0.1207\tval-merror:0.138233\ttrain-f1_score:0.856021\tval-f1_score:0.827369\n",
            "[152]\ttrain-merror:0.120579\tval-merror:0.138233\ttrain-f1_score:0.85623\tval-f1_score:0.827473\n",
            "[153]\ttrain-merror:0.120464\tval-merror:0.138167\ttrain-f1_score:0.856294\tval-f1_score:0.827721\n",
            "[154]\ttrain-merror:0.120257\tval-merror:0.138283\ttrain-f1_score:0.856623\tval-f1_score:0.82742\n",
            "[155]\ttrain-merror:0.120179\tval-merror:0.138167\ttrain-f1_score:0.856767\tval-f1_score:0.827488\n",
            "[156]\ttrain-merror:0.120029\tval-merror:0.1381\ttrain-f1_score:0.856943\tval-f1_score:0.8276\n",
            "[157]\ttrain-merror:0.120014\tval-merror:0.13805\ttrain-f1_score:0.856912\tval-f1_score:0.827531\n",
            "[158]\ttrain-merror:0.119993\tval-merror:0.137917\ttrain-f1_score:0.856962\tval-f1_score:0.827668\n",
            "[159]\ttrain-merror:0.119814\tval-merror:0.13795\ttrain-f1_score:0.857256\tval-f1_score:0.827489\n",
            "[160]\ttrain-merror:0.119721\tval-merror:0.138017\ttrain-f1_score:0.85742\tval-f1_score:0.827393\n",
            "[161]\ttrain-merror:0.119536\tval-merror:0.1379\ttrain-f1_score:0.857786\tval-f1_score:0.827575\n",
            "[162]\ttrain-merror:0.119436\tval-merror:0.137833\ttrain-f1_score:0.857958\tval-f1_score:0.827566\n",
            "[163]\ttrain-merror:0.119386\tval-merror:0.1377\ttrain-f1_score:0.858032\tval-f1_score:0.828124\n",
            "[164]\ttrain-merror:0.119243\tval-merror:0.137533\ttrain-f1_score:0.858196\tval-f1_score:0.828031\n",
            "[165]\ttrain-merror:0.1192\tval-merror:0.1375\ttrain-f1_score:0.85823\tval-f1_score:0.828261\n",
            "[166]\ttrain-merror:0.119064\tval-merror:0.1375\ttrain-f1_score:0.858548\tval-f1_score:0.828096\n",
            "[167]\ttrain-merror:0.118979\tval-merror:0.13745\ttrain-f1_score:0.858709\tval-f1_score:0.828285\n",
            "[168]\ttrain-merror:0.118864\tval-merror:0.137083\ttrain-f1_score:0.858913\tval-f1_score:0.828626\n",
            "[169]\ttrain-merror:0.118714\tval-merror:0.137283\ttrain-f1_score:0.859205\tval-f1_score:0.828481\n",
            "[170]\ttrain-merror:0.118564\tval-merror:0.137333\ttrain-f1_score:0.859503\tval-f1_score:0.828285\n",
            "[171]\ttrain-merror:0.118421\tval-merror:0.137267\ttrain-f1_score:0.859688\tval-f1_score:0.828371\n",
            "[172]\ttrain-merror:0.118286\tval-merror:0.137267\ttrain-f1_score:0.859883\tval-f1_score:0.828432\n",
            "[173]\ttrain-merror:0.118136\tval-merror:0.137167\ttrain-f1_score:0.860071\tval-f1_score:0.82859\n",
            "[174]\ttrain-merror:0.118007\tval-merror:0.137\ttrain-f1_score:0.860331\tval-f1_score:0.828852\n",
            "[175]\ttrain-merror:0.11785\tval-merror:0.136983\ttrain-f1_score:0.860502\tval-f1_score:0.828719\n",
            "[176]\ttrain-merror:0.117779\tval-merror:0.136867\ttrain-f1_score:0.860763\tval-f1_score:0.828846\n",
            "[177]\ttrain-merror:0.117679\tval-merror:0.136867\ttrain-f1_score:0.860865\tval-f1_score:0.828728\n",
            "[178]\ttrain-merror:0.117586\tval-merror:0.136683\ttrain-f1_score:0.861173\tval-f1_score:0.829115\n",
            "[179]\ttrain-merror:0.11745\tval-merror:0.136617\ttrain-f1_score:0.861273\tval-f1_score:0.829214\n",
            "[180]\ttrain-merror:0.117286\tval-merror:0.13655\ttrain-f1_score:0.861394\tval-f1_score:0.829128\n",
            "[181]\ttrain-merror:0.117193\tval-merror:0.136533\ttrain-f1_score:0.86168\tval-f1_score:0.829052\n",
            "[182]\ttrain-merror:0.117121\tval-merror:0.136567\ttrain-f1_score:0.861763\tval-f1_score:0.82897\n",
            "[183]\ttrain-merror:0.117057\tval-merror:0.1365\ttrain-f1_score:0.861901\tval-f1_score:0.829034\n",
            "[184]\ttrain-merror:0.116871\tval-merror:0.136367\ttrain-f1_score:0.862154\tval-f1_score:0.829174\n",
            "[185]\ttrain-merror:0.116793\tval-merror:0.13635\ttrain-f1_score:0.862259\tval-f1_score:0.829408\n",
            "[186]\ttrain-merror:0.116686\tval-merror:0.13625\ttrain-f1_score:0.862355\tval-f1_score:0.829306\n",
            "[187]\ttrain-merror:0.116607\tval-merror:0.136067\ttrain-f1_score:0.86257\tval-f1_score:0.829673\n",
            "[188]\ttrain-merror:0.116479\tval-merror:0.1362\ttrain-f1_score:0.862727\tval-f1_score:0.829471\n",
            "[189]\ttrain-merror:0.116393\tval-merror:0.136117\ttrain-f1_score:0.862927\tval-f1_score:0.829576\n",
            "[190]\ttrain-merror:0.116236\tval-merror:0.1361\ttrain-f1_score:0.863077\tval-f1_score:0.829544\n",
            "[191]\ttrain-merror:0.116107\tval-merror:0.136\ttrain-f1_score:0.863294\tval-f1_score:0.830041\n",
            "[192]\ttrain-merror:0.116007\tval-merror:0.135867\ttrain-f1_score:0.863442\tval-f1_score:0.830083\n",
            "[193]\ttrain-merror:0.115821\tval-merror:0.135833\ttrain-f1_score:0.863764\tval-f1_score:0.830163\n",
            "[194]\ttrain-merror:0.115757\tval-merror:0.13565\ttrain-f1_score:0.863833\tval-f1_score:0.830216\n",
            "[195]\ttrain-merror:0.115657\tval-merror:0.135517\ttrain-f1_score:0.864146\tval-f1_score:0.830386\n",
            "[196]\ttrain-merror:0.115557\tval-merror:0.13545\ttrain-f1_score:0.864236\tval-f1_score:0.830543\n",
            "[197]\ttrain-merror:0.115493\tval-merror:0.135517\ttrain-f1_score:0.864231\tval-f1_score:0.830695\n",
            "[198]\ttrain-merror:0.115329\tval-merror:0.1355\ttrain-f1_score:0.86448\tval-f1_score:0.830679\n",
            "[199]\ttrain-merror:0.115179\tval-merror:0.135383\ttrain-f1_score:0.864507\tval-f1_score:0.830929\n"
          ]
        }
      ]
    },
    {
      "cell_type": "code",
      "metadata": {
        "id": "EuKP58JxamA5"
      },
      "source": [
        ""
      ],
      "id": "EuKP58JxamA5",
      "execution_count": null,
      "outputs": []
    }
  ]
}