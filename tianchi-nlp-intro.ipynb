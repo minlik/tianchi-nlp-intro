{
 "cells": [
  {
   "cell_type": "code",
   "execution_count": 1,
   "id": "20db2dfd",
   "metadata": {},
   "outputs": [
    {
     "name": "stdout",
     "output_type": "stream",
     "text": [
      "/home/kuan/tianchi-nlp-intro\r\n"
     ]
    }
   ],
   "source": [
    "!pwd"
   ]
  },
  {
   "cell_type": "markdown",
   "id": "e072f4e7",
   "metadata": {},
   "source": [
    "（10月5日）**任务1**：报名比赛，下载比赛数据集并完成读取"
   ]
  },
  {
   "cell_type": "code",
   "execution_count": 1,
   "id": "886df566",
   "metadata": {},
   "outputs": [],
   "source": [
    "import pandas as pd\n",
    "train_df = pd.read_csv('./train_set.csv', sep='\\t', nrows=100)\n",
    "train_df['word'] = train_df['text'].apply(lambda x: len(x.split(' ')))"
   ]
  },
  {
   "cell_type": "markdown",
   "id": "a99071de",
   "metadata": {},
   "source": [
    "（10月5日）**任务2**：对数据集字符进行可视化，统计标签和字符分布\n",
    "- [x] 统计数据集中所有句子所包含字符的平均个数\n",
    "- [x] 统计数据集中不同类别下句子平均字符的个数\n",
    "- [x] 统计数据集中类别分布的规律\n",
    "- [x] 统计数据集中不同类别下句子中最常见的5个字符"
   ]
  },
  {
   "cell_type": "code",
   "execution_count": 2,
   "id": "00eeef18",
   "metadata": {},
   "outputs": [],
   "source": [
    "label2id = {'科技': 0, '股票': 1, '体育': 2, '娱乐': 3, '时政': 4, '社会': 5, '教育': 6, '财经': 7, '家居': 8, '游戏': 9, '房产': 10, '时尚': 11, '彩票': 12, '星座': 13}\n",
    "id2label = {v:k for k, v in label2id.items()}"
   ]
  },
  {
   "cell_type": "code",
   "execution_count": 3,
   "id": "7720b54d",
   "metadata": {},
   "outputs": [
    {
     "name": "stdout",
     "output_type": "stream",
     "text": [
      "统计数据集中所有句子所包含字符的平均个数: 872.32\n"
     ]
    }
   ],
   "source": [
    "avg = train_df['word'].mean()\n",
    "print(f'统计数据集中所有句子所包含字符的平均个数: {avg:.2f}')"
   ]
  },
  {
   "cell_type": "code",
   "execution_count": 4,
   "id": "f1b0ae8c",
   "metadata": {},
   "outputs": [
    {
     "name": "stdout",
     "output_type": "stream",
     "text": [
      "\"科技\"类别下的字符平均个数：1096.54\n",
      "\"股票\"类别下的字符平均个数：721.56\n",
      "\"体育\"类别下的字符平均个数：1104.63\n",
      "\"娱乐\"类别下的字符平均个数：512.17\n",
      "\"时政\"类别下的字符平均个数：329.12\n",
      "\"社会\"类别下的字符平均个数：1516.67\n",
      "\"教育\"类别下的字符平均个数：2214.20\n",
      "\"财经\"类别下的字符平均个数：1012.00\n",
      "\"家居\"类别下的字符平均个数：435.67\n",
      "\"游戏\"类别下的字符平均个数：565.67\n",
      "\"房产\"类别下的字符平均个数：1177.67\n",
      "\"时尚\"类别下的字符平均个数：425.00\n",
      "\"彩票\"类别下的字符平均个数：374.00\n",
      "\"星座\"类别下的字符平均个数：131.00\n"
     ]
    }
   ],
   "source": [
    "avg_by_label = train_df.groupby('label')['word'].mean()\n",
    "for i, avg in enumerate(avg_by_label):\n",
    "    label = id2label[i]\n",
    "    print(f'\\\"{label}\\\"类别下的字符平均个数：{avg:.2f}')"
   ]
  },
  {
   "cell_type": "code",
   "execution_count": 5,
   "id": "3d3cc684",
   "metadata": {},
   "outputs": [
    {
     "data": {
      "image/png": "[encoded data removed]",
      "text/plain": [
       "<Figure size 432x288 with 1 Axes>"
      ]
     },
     "metadata": {
      "needs_background": "light"
     },
     "output_type": "display_data"
    }
   ],
   "source": [
    "import matplotlib.pyplot as plt\n",
    "%matplotlib inline\n",
    "\n",
    "label_counts = train_df['label'].value_counts()\n",
    "labels = [label for label in label2id]\n",
    "plt.bar(labels, label_counts)\n",
    "plt.title('数据集中类别分布情况')\n",
    "plt.xlabel('类别')\n",
    "plt.ylabel('数量')\n",
    "plt.show()"
   ]
  },
  {
   "cell_type": "code",
   "execution_count": 15,
   "id": "2331cc92",
   "metadata": {},
   "outputs": [
    {
     "name": "stdout",
     "output_type": "stream",
     "text": [
      "统计数据集中不同类别下句子中最常见的5个字符:\n",
      "\n",
      "0 科技 [('3750', 610), ('648', 458), ('900', 298), ('6122', 179), ('3370', 150)]\n",
      "1 股票 [('3750', 531), ('648', 314), ('3370', 211), ('4464', 189), ('900', 186)]\n",
      "2 体育 [('3750', 956), ('648', 541), ('900', 434), ('4704', 225), ('1667', 212)]\n",
      "3 娱乐 [('3750', 239), ('648', 127), ('900', 87), ('2465', 65), ('4939', 62)]\n",
      "4 时政 [('3750', 78), ('648', 63), ('900', 56), ('4464', 40), ('4411', 35)]\n",
      "5 社会 [('3750', 193), ('648', 135), ('900', 98), ('4939', 66), ('5598', 53)]\n",
      "6 教育 [('3750', 491), ('648', 450), ('2555', 297), ('5620', 215), ('900', 207)]\n",
      "7 财经 [('3750', 214), ('3370', 134), ('648', 106), ('900', 100), ('4464', 85)]\n",
      "8 家居 [('3750', 68), ('648', 42), ('913', 33), ('5305', 21), ('4326', 20)]\n",
      "9 游戏 [('3750', 51), ('3370', 35), ('3317', 31), ('7010', 27), ('7539', 26)]\n",
      "10 房产 [('3750', 152), ('648', 84), ('2999', 64), ('900', 57), ('408', 57)]\n",
      "11 时尚 [('3750', 102), ('648', 73), ('900', 40), ('5310', 27), ('3809', 24)]\n",
      "12 彩票 [('4464', 59), ('6220', 59), ('3659', 46), ('3370', 39), ('6065', 23)]\n",
      "13 星座 [('648', 6), ('3750', 5), ('1903', 3), ('3019', 3), ('3607', 3)]\n"
     ]
    }
   ],
   "source": [
    "print('统计数据集中不同类别下句子中最常见的5个字符:\\n')\n",
    "import collections\n",
    "\n",
    "for i in range(len(labels)):\n",
    "    df = train_df[train_df['label'] == i]\n",
    "    words_list = []\n",
    "    for text in df['text']:\n",
    "        words_list += text.split()\n",
    "    words_counter = collections.Counter(words_list)\n",
    "    print(i, id2label[i], words_counter.most_common(5))"
   ]
  },
  {
   "cell_type": "code",
   "execution_count": null,
   "id": "ce86fb01",
   "metadata": {},
   "outputs": [],
   "source": []
  }
 ],
 "metadata": {
  "kernelspec": {
   "display_name": "Python 3",
   "language": "python",
   "name": "python3"
  },
  "language_info": {
   "codemirror_mode": {
    "name": "ipython",
    "version": 3
   },
   "file_extension": ".py",
   "mimetype": "text/x-python",
   "name": "python",
   "nbconvert_exporter": "python",
   "pygments_lexer": "ipython3",
   "version": "3.8.8"
  }
 },
 "nbformat": 4,
 "nbformat_minor": 5
}
